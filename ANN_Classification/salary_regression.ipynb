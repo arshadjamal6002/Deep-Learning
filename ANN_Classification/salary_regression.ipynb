{
 "cells": [
  {
   "cell_type": "code",
   "execution_count": 1,
   "metadata": {},
   "outputs": [],
   "source": [
    "import numpy as np \n",
    "import pandas as pd\n",
    "from sklearn.model_selection import train_test_split\n",
    "from sklearn.preprocessing import StandardScaler, LabelEncoder, OneHotEncoder"
   ]
  },
  {
   "cell_type": "code",
   "execution_count": 3,
   "metadata": {},
   "outputs": [
    {
     "data": {
      "text/html": [
       "<div>\n",
       "<style scoped>\n",
       "    .dataframe tbody tr th:only-of-type {\n",
       "        vertical-align: middle;\n",
       "    }\n",
       "\n",
       "    .dataframe tbody tr th {\n",
       "        vertical-align: top;\n",
       "    }\n",
       "\n",
       "    .dataframe thead th {\n",
       "        text-align: right;\n",
       "    }\n",
       "</style>\n",
       "<table border=\"1\" class=\"dataframe\">\n",
       "  <thead>\n",
       "    <tr style=\"text-align: right;\">\n",
       "      <th></th>\n",
       "      <th>RowNumber</th>\n",
       "      <th>CustomerId</th>\n",
       "      <th>Surname</th>\n",
       "      <th>CreditScore</th>\n",
       "      <th>Geography</th>\n",
       "      <th>Gender</th>\n",
       "      <th>Age</th>\n",
       "      <th>Tenure</th>\n",
       "      <th>Balance</th>\n",
       "      <th>NumOfProducts</th>\n",
       "      <th>HasCrCard</th>\n",
       "      <th>IsActiveMember</th>\n",
       "      <th>EstimatedSalary</th>\n",
       "      <th>Exited</th>\n",
       "    </tr>\n",
       "  </thead>\n",
       "  <tbody>\n",
       "    <tr>\n",
       "      <th>0</th>\n",
       "      <td>1</td>\n",
       "      <td>15634602</td>\n",
       "      <td>Hargrave</td>\n",
       "      <td>619</td>\n",
       "      <td>France</td>\n",
       "      <td>Female</td>\n",
       "      <td>42</td>\n",
       "      <td>2</td>\n",
       "      <td>0.00</td>\n",
       "      <td>1</td>\n",
       "      <td>1</td>\n",
       "      <td>1</td>\n",
       "      <td>101348.88</td>\n",
       "      <td>1</td>\n",
       "    </tr>\n",
       "    <tr>\n",
       "      <th>1</th>\n",
       "      <td>2</td>\n",
       "      <td>15647311</td>\n",
       "      <td>Hill</td>\n",
       "      <td>608</td>\n",
       "      <td>Spain</td>\n",
       "      <td>Female</td>\n",
       "      <td>41</td>\n",
       "      <td>1</td>\n",
       "      <td>83807.86</td>\n",
       "      <td>1</td>\n",
       "      <td>0</td>\n",
       "      <td>1</td>\n",
       "      <td>112542.58</td>\n",
       "      <td>0</td>\n",
       "    </tr>\n",
       "    <tr>\n",
       "      <th>2</th>\n",
       "      <td>3</td>\n",
       "      <td>15619304</td>\n",
       "      <td>Onio</td>\n",
       "      <td>502</td>\n",
       "      <td>France</td>\n",
       "      <td>Female</td>\n",
       "      <td>42</td>\n",
       "      <td>8</td>\n",
       "      <td>159660.80</td>\n",
       "      <td>3</td>\n",
       "      <td>1</td>\n",
       "      <td>0</td>\n",
       "      <td>113931.57</td>\n",
       "      <td>1</td>\n",
       "    </tr>\n",
       "    <tr>\n",
       "      <th>3</th>\n",
       "      <td>4</td>\n",
       "      <td>15701354</td>\n",
       "      <td>Boni</td>\n",
       "      <td>699</td>\n",
       "      <td>France</td>\n",
       "      <td>Female</td>\n",
       "      <td>39</td>\n",
       "      <td>1</td>\n",
       "      <td>0.00</td>\n",
       "      <td>2</td>\n",
       "      <td>0</td>\n",
       "      <td>0</td>\n",
       "      <td>93826.63</td>\n",
       "      <td>0</td>\n",
       "    </tr>\n",
       "    <tr>\n",
       "      <th>4</th>\n",
       "      <td>5</td>\n",
       "      <td>15737888</td>\n",
       "      <td>Mitchell</td>\n",
       "      <td>850</td>\n",
       "      <td>Spain</td>\n",
       "      <td>Female</td>\n",
       "      <td>43</td>\n",
       "      <td>2</td>\n",
       "      <td>125510.82</td>\n",
       "      <td>1</td>\n",
       "      <td>1</td>\n",
       "      <td>1</td>\n",
       "      <td>79084.10</td>\n",
       "      <td>0</td>\n",
       "    </tr>\n",
       "  </tbody>\n",
       "</table>\n",
       "</div>"
      ],
      "text/plain": [
       "   RowNumber  CustomerId   Surname  ...  IsActiveMember EstimatedSalary Exited\n",
       "0          1    15634602  Hargrave  ...               1       101348.88      1\n",
       "1          2    15647311      Hill  ...               1       112542.58      0\n",
       "2          3    15619304      Onio  ...               0       113931.57      1\n",
       "3          4    15701354      Boni  ...               0        93826.63      0\n",
       "4          5    15737888  Mitchell  ...               1        79084.10      0\n",
       "\n",
       "[5 rows x 14 columns]"
      ]
     },
     "execution_count": 3,
     "metadata": {},
     "output_type": "execute_result"
    }
   ],
   "source": [
    "df = pd.read_csv(\"Churn_Modelling.csv\")\n",
    "df.head()"
   ]
  },
  {
   "cell_type": "code",
   "execution_count": 4,
   "metadata": {},
   "outputs": [],
   "source": [
    "# Estimated Salary wd be our continous output variable\n",
    "# Rest all input\n",
    "df.drop(columns = ['RowNumber', 'CustomerId', 'Surname'], inplace = True)"
   ]
  },
  {
   "cell_type": "code",
   "execution_count": 5,
   "metadata": {},
   "outputs": [
    {
     "data": {
      "text/html": [
       "<div>\n",
       "<style scoped>\n",
       "    .dataframe tbody tr th:only-of-type {\n",
       "        vertical-align: middle;\n",
       "    }\n",
       "\n",
       "    .dataframe tbody tr th {\n",
       "        vertical-align: top;\n",
       "    }\n",
       "\n",
       "    .dataframe thead th {\n",
       "        text-align: right;\n",
       "    }\n",
       "</style>\n",
       "<table border=\"1\" class=\"dataframe\">\n",
       "  <thead>\n",
       "    <tr style=\"text-align: right;\">\n",
       "      <th></th>\n",
       "      <th>CreditScore</th>\n",
       "      <th>Geography</th>\n",
       "      <th>Gender</th>\n",
       "      <th>Age</th>\n",
       "      <th>Tenure</th>\n",
       "      <th>Balance</th>\n",
       "      <th>NumOfProducts</th>\n",
       "      <th>HasCrCard</th>\n",
       "      <th>IsActiveMember</th>\n",
       "      <th>EstimatedSalary</th>\n",
       "      <th>Exited</th>\n",
       "    </tr>\n",
       "  </thead>\n",
       "  <tbody>\n",
       "    <tr>\n",
       "      <th>0</th>\n",
       "      <td>619</td>\n",
       "      <td>France</td>\n",
       "      <td>0</td>\n",
       "      <td>42</td>\n",
       "      <td>2</td>\n",
       "      <td>0.00</td>\n",
       "      <td>1</td>\n",
       "      <td>1</td>\n",
       "      <td>1</td>\n",
       "      <td>101348.88</td>\n",
       "      <td>1</td>\n",
       "    </tr>\n",
       "    <tr>\n",
       "      <th>1</th>\n",
       "      <td>608</td>\n",
       "      <td>Spain</td>\n",
       "      <td>0</td>\n",
       "      <td>41</td>\n",
       "      <td>1</td>\n",
       "      <td>83807.86</td>\n",
       "      <td>1</td>\n",
       "      <td>0</td>\n",
       "      <td>1</td>\n",
       "      <td>112542.58</td>\n",
       "      <td>0</td>\n",
       "    </tr>\n",
       "    <tr>\n",
       "      <th>2</th>\n",
       "      <td>502</td>\n",
       "      <td>France</td>\n",
       "      <td>0</td>\n",
       "      <td>42</td>\n",
       "      <td>8</td>\n",
       "      <td>159660.80</td>\n",
       "      <td>3</td>\n",
       "      <td>1</td>\n",
       "      <td>0</td>\n",
       "      <td>113931.57</td>\n",
       "      <td>1</td>\n",
       "    </tr>\n",
       "    <tr>\n",
       "      <th>3</th>\n",
       "      <td>699</td>\n",
       "      <td>France</td>\n",
       "      <td>0</td>\n",
       "      <td>39</td>\n",
       "      <td>1</td>\n",
       "      <td>0.00</td>\n",
       "      <td>2</td>\n",
       "      <td>0</td>\n",
       "      <td>0</td>\n",
       "      <td>93826.63</td>\n",
       "      <td>0</td>\n",
       "    </tr>\n",
       "    <tr>\n",
       "      <th>4</th>\n",
       "      <td>850</td>\n",
       "      <td>Spain</td>\n",
       "      <td>0</td>\n",
       "      <td>43</td>\n",
       "      <td>2</td>\n",
       "      <td>125510.82</td>\n",
       "      <td>1</td>\n",
       "      <td>1</td>\n",
       "      <td>1</td>\n",
       "      <td>79084.10</td>\n",
       "      <td>0</td>\n",
       "    </tr>\n",
       "  </tbody>\n",
       "</table>\n",
       "</div>"
      ],
      "text/plain": [
       "   CreditScore Geography  Gender  ...  IsActiveMember  EstimatedSalary  Exited\n",
       "0          619    France       0  ...               1        101348.88       1\n",
       "1          608     Spain       0  ...               1        112542.58       0\n",
       "2          502    France       0  ...               0        113931.57       1\n",
       "3          699    France       0  ...               0         93826.63       0\n",
       "4          850     Spain       0  ...               1         79084.10       0\n",
       "\n",
       "[5 rows x 11 columns]"
      ]
     },
     "execution_count": 5,
     "metadata": {},
     "output_type": "execute_result"
    }
   ],
   "source": [
    "le = LabelEncoder()\n",
    "df.Gender = le.fit_transform(df.Gender)\n",
    "df.head()"
   ]
  },
  {
   "cell_type": "code",
   "execution_count": 6,
   "metadata": {},
   "outputs": [
    {
     "data": {
      "text/plain": [
       "Gender\n",
       "1    5457\n",
       "0    4543\n",
       "Name: count, dtype: int64"
      ]
     },
     "execution_count": 6,
     "metadata": {},
     "output_type": "execute_result"
    }
   ],
   "source": [
    "df.Gender.value_counts()"
   ]
  },
  {
   "cell_type": "code",
   "execution_count": 9,
   "metadata": {},
   "outputs": [
    {
     "data": {
      "text/plain": [
       "<Compressed Sparse Row sparse matrix of dtype 'float64'\n",
       "\twith 4986 stored elements and shape (10000, 2)>"
      ]
     },
     "execution_count": 9,
     "metadata": {},
     "output_type": "execute_result"
    }
   ],
   "source": [
    "enc = OneHotEncoder(drop = 'first', sparse_output=True)\n",
    "encoded_vals = enc.fit_transform(df[['Geography']])\n",
    "encoded_vals"
   ]
  },
  {
   "cell_type": "code",
   "execution_count": 13,
   "metadata": {},
   "outputs": [
    {
     "data": {
      "text/plain": [
       "array([[0, 0],\n",
       "       [0, 1],\n",
       "       [0, 0],\n",
       "       ...,\n",
       "       [0, 0],\n",
       "       [1, 0],\n",
       "       [0, 0]])"
      ]
     },
     "execution_count": 13,
     "metadata": {},
     "output_type": "execute_result"
    }
   ],
   "source": [
    "enc = OneHotEncoder(drop = 'first', sparse_output=False)\n",
    "encoded_vals = enc.fit_transform(df[['Geography']]).astype(int)\n",
    "encoded_vals"
   ]
  },
  {
   "cell_type": "code",
   "execution_count": 14,
   "metadata": {},
   "outputs": [
    {
     "data": {
      "text/html": [
       "<div>\n",
       "<style scoped>\n",
       "    .dataframe tbody tr th:only-of-type {\n",
       "        vertical-align: middle;\n",
       "    }\n",
       "\n",
       "    .dataframe tbody tr th {\n",
       "        vertical-align: top;\n",
       "    }\n",
       "\n",
       "    .dataframe thead th {\n",
       "        text-align: right;\n",
       "    }\n",
       "</style>\n",
       "<table border=\"1\" class=\"dataframe\">\n",
       "  <thead>\n",
       "    <tr style=\"text-align: right;\">\n",
       "      <th></th>\n",
       "      <th>Geography_Germany</th>\n",
       "      <th>Geography_Spain</th>\n",
       "    </tr>\n",
       "  </thead>\n",
       "  <tbody>\n",
       "    <tr>\n",
       "      <th>0</th>\n",
       "      <td>0</td>\n",
       "      <td>0</td>\n",
       "    </tr>\n",
       "    <tr>\n",
       "      <th>1</th>\n",
       "      <td>0</td>\n",
       "      <td>1</td>\n",
       "    </tr>\n",
       "    <tr>\n",
       "      <th>2</th>\n",
       "      <td>0</td>\n",
       "      <td>0</td>\n",
       "    </tr>\n",
       "    <tr>\n",
       "      <th>3</th>\n",
       "      <td>0</td>\n",
       "      <td>0</td>\n",
       "    </tr>\n",
       "    <tr>\n",
       "      <th>4</th>\n",
       "      <td>0</td>\n",
       "      <td>1</td>\n",
       "    </tr>\n",
       "  </tbody>\n",
       "</table>\n",
       "</div>"
      ],
      "text/plain": [
       "   Geography_Germany  Geography_Spain\n",
       "0                  0                0\n",
       "1                  0                1\n",
       "2                  0                0\n",
       "3                  0                0\n",
       "4                  0                1"
      ]
     },
     "execution_count": 14,
     "metadata": {},
     "output_type": "execute_result"
    }
   ],
   "source": [
    "df_encoded = pd.DataFrame(encoded_vals, columns = enc.get_feature_names_out(['Geography']))\n",
    "df_encoded.head()"
   ]
  },
  {
   "cell_type": "code",
   "execution_count": 17,
   "metadata": {},
   "outputs": [],
   "source": [
    "df = pd.concat([df, df_encoded], axis = 1)"
   ]
  },
  {
   "cell_type": "code",
   "execution_count": 18,
   "metadata": {},
   "outputs": [
    {
     "data": {
      "text/html": [
       "<div>\n",
       "<style scoped>\n",
       "    .dataframe tbody tr th:only-of-type {\n",
       "        vertical-align: middle;\n",
       "    }\n",
       "\n",
       "    .dataframe tbody tr th {\n",
       "        vertical-align: top;\n",
       "    }\n",
       "\n",
       "    .dataframe thead th {\n",
       "        text-align: right;\n",
       "    }\n",
       "</style>\n",
       "<table border=\"1\" class=\"dataframe\">\n",
       "  <thead>\n",
       "    <tr style=\"text-align: right;\">\n",
       "      <th></th>\n",
       "      <th>CreditScore</th>\n",
       "      <th>Geography</th>\n",
       "      <th>Gender</th>\n",
       "      <th>Age</th>\n",
       "      <th>Tenure</th>\n",
       "      <th>Balance</th>\n",
       "      <th>NumOfProducts</th>\n",
       "      <th>HasCrCard</th>\n",
       "      <th>IsActiveMember</th>\n",
       "      <th>EstimatedSalary</th>\n",
       "      <th>Exited</th>\n",
       "      <th>Geography_Germany</th>\n",
       "      <th>Geography_Spain</th>\n",
       "    </tr>\n",
       "  </thead>\n",
       "  <tbody>\n",
       "    <tr>\n",
       "      <th>0</th>\n",
       "      <td>619</td>\n",
       "      <td>France</td>\n",
       "      <td>0</td>\n",
       "      <td>42</td>\n",
       "      <td>2</td>\n",
       "      <td>0.00</td>\n",
       "      <td>1</td>\n",
       "      <td>1</td>\n",
       "      <td>1</td>\n",
       "      <td>101348.88</td>\n",
       "      <td>1</td>\n",
       "      <td>0</td>\n",
       "      <td>0</td>\n",
       "    </tr>\n",
       "    <tr>\n",
       "      <th>1</th>\n",
       "      <td>608</td>\n",
       "      <td>Spain</td>\n",
       "      <td>0</td>\n",
       "      <td>41</td>\n",
       "      <td>1</td>\n",
       "      <td>83807.86</td>\n",
       "      <td>1</td>\n",
       "      <td>0</td>\n",
       "      <td>1</td>\n",
       "      <td>112542.58</td>\n",
       "      <td>0</td>\n",
       "      <td>0</td>\n",
       "      <td>1</td>\n",
       "    </tr>\n",
       "    <tr>\n",
       "      <th>2</th>\n",
       "      <td>502</td>\n",
       "      <td>France</td>\n",
       "      <td>0</td>\n",
       "      <td>42</td>\n",
       "      <td>8</td>\n",
       "      <td>159660.80</td>\n",
       "      <td>3</td>\n",
       "      <td>1</td>\n",
       "      <td>0</td>\n",
       "      <td>113931.57</td>\n",
       "      <td>1</td>\n",
       "      <td>0</td>\n",
       "      <td>0</td>\n",
       "    </tr>\n",
       "    <tr>\n",
       "      <th>3</th>\n",
       "      <td>699</td>\n",
       "      <td>France</td>\n",
       "      <td>0</td>\n",
       "      <td>39</td>\n",
       "      <td>1</td>\n",
       "      <td>0.00</td>\n",
       "      <td>2</td>\n",
       "      <td>0</td>\n",
       "      <td>0</td>\n",
       "      <td>93826.63</td>\n",
       "      <td>0</td>\n",
       "      <td>0</td>\n",
       "      <td>0</td>\n",
       "    </tr>\n",
       "    <tr>\n",
       "      <th>4</th>\n",
       "      <td>850</td>\n",
       "      <td>Spain</td>\n",
       "      <td>0</td>\n",
       "      <td>43</td>\n",
       "      <td>2</td>\n",
       "      <td>125510.82</td>\n",
       "      <td>1</td>\n",
       "      <td>1</td>\n",
       "      <td>1</td>\n",
       "      <td>79084.10</td>\n",
       "      <td>0</td>\n",
       "      <td>0</td>\n",
       "      <td>1</td>\n",
       "    </tr>\n",
       "  </tbody>\n",
       "</table>\n",
       "</div>"
      ],
      "text/plain": [
       "   CreditScore Geography  Gender  ...  Exited  Geography_Germany  Geography_Spain\n",
       "0          619    France       0  ...       1                  0                0\n",
       "1          608     Spain       0  ...       0                  0                1\n",
       "2          502    France       0  ...       1                  0                0\n",
       "3          699    France       0  ...       0                  0                0\n",
       "4          850     Spain       0  ...       0                  0                1\n",
       "\n",
       "[5 rows x 13 columns]"
      ]
     },
     "execution_count": 18,
     "metadata": {},
     "output_type": "execute_result"
    }
   ],
   "source": [
    "df.head()"
   ]
  },
  {
   "cell_type": "code",
   "execution_count": 19,
   "metadata": {},
   "outputs": [],
   "source": [
    "df.drop(columns = [\"Geography\"], inplace = True)"
   ]
  },
  {
   "cell_type": "code",
   "execution_count": 20,
   "metadata": {},
   "outputs": [
    {
     "data": {
      "text/html": [
       "<div>\n",
       "<style scoped>\n",
       "    .dataframe tbody tr th:only-of-type {\n",
       "        vertical-align: middle;\n",
       "    }\n",
       "\n",
       "    .dataframe tbody tr th {\n",
       "        vertical-align: top;\n",
       "    }\n",
       "\n",
       "    .dataframe thead th {\n",
       "        text-align: right;\n",
       "    }\n",
       "</style>\n",
       "<table border=\"1\" class=\"dataframe\">\n",
       "  <thead>\n",
       "    <tr style=\"text-align: right;\">\n",
       "      <th></th>\n",
       "      <th>CreditScore</th>\n",
       "      <th>Gender</th>\n",
       "      <th>Age</th>\n",
       "      <th>Tenure</th>\n",
       "      <th>Balance</th>\n",
       "      <th>NumOfProducts</th>\n",
       "      <th>HasCrCard</th>\n",
       "      <th>IsActiveMember</th>\n",
       "      <th>EstimatedSalary</th>\n",
       "      <th>Exited</th>\n",
       "      <th>Geography_Germany</th>\n",
       "      <th>Geography_Spain</th>\n",
       "    </tr>\n",
       "  </thead>\n",
       "  <tbody>\n",
       "    <tr>\n",
       "      <th>0</th>\n",
       "      <td>619</td>\n",
       "      <td>0</td>\n",
       "      <td>42</td>\n",
       "      <td>2</td>\n",
       "      <td>0.00</td>\n",
       "      <td>1</td>\n",
       "      <td>1</td>\n",
       "      <td>1</td>\n",
       "      <td>101348.88</td>\n",
       "      <td>1</td>\n",
       "      <td>0</td>\n",
       "      <td>0</td>\n",
       "    </tr>\n",
       "    <tr>\n",
       "      <th>1</th>\n",
       "      <td>608</td>\n",
       "      <td>0</td>\n",
       "      <td>41</td>\n",
       "      <td>1</td>\n",
       "      <td>83807.86</td>\n",
       "      <td>1</td>\n",
       "      <td>0</td>\n",
       "      <td>1</td>\n",
       "      <td>112542.58</td>\n",
       "      <td>0</td>\n",
       "      <td>0</td>\n",
       "      <td>1</td>\n",
       "    </tr>\n",
       "    <tr>\n",
       "      <th>2</th>\n",
       "      <td>502</td>\n",
       "      <td>0</td>\n",
       "      <td>42</td>\n",
       "      <td>8</td>\n",
       "      <td>159660.80</td>\n",
       "      <td>3</td>\n",
       "      <td>1</td>\n",
       "      <td>0</td>\n",
       "      <td>113931.57</td>\n",
       "      <td>1</td>\n",
       "      <td>0</td>\n",
       "      <td>0</td>\n",
       "    </tr>\n",
       "    <tr>\n",
       "      <th>3</th>\n",
       "      <td>699</td>\n",
       "      <td>0</td>\n",
       "      <td>39</td>\n",
       "      <td>1</td>\n",
       "      <td>0.00</td>\n",
       "      <td>2</td>\n",
       "      <td>0</td>\n",
       "      <td>0</td>\n",
       "      <td>93826.63</td>\n",
       "      <td>0</td>\n",
       "      <td>0</td>\n",
       "      <td>0</td>\n",
       "    </tr>\n",
       "    <tr>\n",
       "      <th>4</th>\n",
       "      <td>850</td>\n",
       "      <td>0</td>\n",
       "      <td>43</td>\n",
       "      <td>2</td>\n",
       "      <td>125510.82</td>\n",
       "      <td>1</td>\n",
       "      <td>1</td>\n",
       "      <td>1</td>\n",
       "      <td>79084.10</td>\n",
       "      <td>0</td>\n",
       "      <td>0</td>\n",
       "      <td>1</td>\n",
       "    </tr>\n",
       "  </tbody>\n",
       "</table>\n",
       "</div>"
      ],
      "text/plain": [
       "   CreditScore  Gender  Age  ...  Exited  Geography_Germany  Geography_Spain\n",
       "0          619       0   42  ...       1                  0                0\n",
       "1          608       0   41  ...       0                  0                1\n",
       "2          502       0   42  ...       1                  0                0\n",
       "3          699       0   39  ...       0                  0                0\n",
       "4          850       0   43  ...       0                  0                1\n",
       "\n",
       "[5 rows x 12 columns]"
      ]
     },
     "execution_count": 20,
     "metadata": {},
     "output_type": "execute_result"
    }
   ],
   "source": [
    "df.head()"
   ]
  },
  {
   "cell_type": "code",
   "execution_count": 21,
   "metadata": {},
   "outputs": [],
   "source": [
    "X = df.drop('EstimatedSalary', axis = 1)\n",
    "y = df.EstimatedSalary"
   ]
  },
  {
   "cell_type": "code",
   "execution_count": 22,
   "metadata": {},
   "outputs": [],
   "source": [
    "X_train, X_test, y_train, y_test = train_test_split(X, y, test_size=0.2, random_state = 42)"
   ]
  },
  {
   "cell_type": "code",
   "execution_count": 23,
   "metadata": {},
   "outputs": [],
   "source": [
    "# Scaling always to be done after splitting else data leakage\n",
    "scaler = StandardScaler()\n",
    "X_train = scaler.fit_transform(X_train)\n",
    "X_test = scaler.transform(X_test)\n"
   ]
  },
  {
   "cell_type": "markdown",
   "metadata": {},
   "source": [
    "ANN Regression Problem Statement"
   ]
  },
  {
   "cell_type": "code",
   "execution_count": 24,
   "metadata": {},
   "outputs": [],
   "source": [
    "import tensorflow as tf\n",
    "from tensorflow.keras.models import Sequential\n",
    "from tensorflow.keras.layers import Dense"
   ]
  },
  {
   "cell_type": "code",
   "execution_count": 46,
   "metadata": {},
   "outputs": [],
   "source": [
    "# Build the model\n",
    "model = Sequential()\n",
    "\n",
    "model.add(Dense(64, activation = 'relu', input_dim = X_train.shape[1]))\n",
    "model.add(Dense(64, activation = 'relu'))\n",
    "model.add(Dense(1))  # Default activation = Linear Activation\n"
   ]
  },
  {
   "cell_type": "code",
   "execution_count": 47,
   "metadata": {},
   "outputs": [
    {
     "name": "stdout",
     "output_type": "stream",
     "text": [
      "Model: \"sequential_1\"\n",
      "_________________________________________________________________\n",
      " Layer (type)                Output Shape              Param #   \n",
      "=================================================================\n",
      " dense_3 (Dense)             (None, 64)                768       \n",
      "                                                                 \n",
      " dense_4 (Dense)             (None, 64)                4160      \n",
      "                                                                 \n",
      " dense_5 (Dense)             (None, 1)                 65        \n",
      "                                                                 \n",
      "=================================================================\n",
      "Total params: 4993 (19.50 KB)\n",
      "Trainable params: 4993 (19.50 KB)\n",
      "Non-trainable params: 0 (0.00 Byte)\n",
      "_________________________________________________________________\n"
     ]
    }
   ],
   "source": [
    "model.summary()"
   ]
  },
  {
   "cell_type": "code",
   "execution_count": 48,
   "metadata": {},
   "outputs": [],
   "source": [
    "model.compile(optimizer = 'adam', loss = 'mean_absolute_error', metrics = ['mae'])"
   ]
  },
  {
   "cell_type": "code",
   "execution_count": 49,
   "metadata": {},
   "outputs": [],
   "source": [
    "import datetime\n",
    "from tensorflow.keras.callbacks import EarlyStopping, TensorBoard\n",
    "\n",
    "log_dir = 'regressionlogs/fit/' + datetime.datetime.now().strftime('%Y-%m-%d_%H-%M-%S')\n",
    "tensorboard_callback = TensorBoard(log_dir = log_dir, histogram_freq=1)\n",
    "early_stopping_callback = EarlyStopping(monitor='val_loss', patience = 10, restore_best_weights=True)\n"
   ]
  },
  {
   "cell_type": "code",
   "execution_count": 50,
   "metadata": {},
   "outputs": [
    {
     "name": "stdout",
     "output_type": "stream",
     "text": [
      "Epoch 1/100\n",
      "250/250 [==============================] - 3s 5ms/step - loss: 100313.3828 - mae: 100313.3828 - val_loss: 98261.3906 - val_mae: 98261.3906\n",
      "Epoch 2/100\n",
      "250/250 [==============================] - 1s 4ms/step - loss: 98669.0859 - mae: 98669.0859 - val_loss: 94970.4688 - val_mae: 94970.4688\n",
      "Epoch 3/100\n",
      "250/250 [==============================] - 1s 3ms/step - loss: 93152.2109 - mae: 93152.2109 - val_loss: 87140.4375 - val_mae: 87140.4375\n",
      "Epoch 4/100\n",
      "250/250 [==============================] - 1s 4ms/step - loss: 83288.9297 - mae: 83288.9297 - val_loss: 75807.3594 - val_mae: 75807.3594\n",
      "Epoch 5/100\n",
      "250/250 [==============================] - 1s 3ms/step - loss: 71192.3359 - mae: 71192.3359 - val_loss: 64242.0039 - val_mae: 64242.0039\n",
      "Epoch 6/100\n",
      "250/250 [==============================] - 1s 4ms/step - loss: 60776.1680 - mae: 60776.1680 - val_loss: 56116.5742 - val_mae: 56116.5742\n",
      "Epoch 7/100\n",
      "250/250 [==============================] - 1s 5ms/step - loss: 54525.7070 - mae: 54525.7070 - val_loss: 52098.0117 - val_mae: 52098.0117\n",
      "Epoch 8/100\n",
      "250/250 [==============================] - 1s 5ms/step - loss: 51742.0117 - mae: 51742.0117 - val_loss: 50773.7383 - val_mae: 50773.7383\n",
      "Epoch 9/100\n",
      "250/250 [==============================] - 1s 5ms/step - loss: 50769.9766 - mae: 50769.9766 - val_loss: 50510.9688 - val_mae: 50510.9688\n",
      "Epoch 10/100\n",
      "250/250 [==============================] - 1s 4ms/step - loss: 50449.5859 - mae: 50449.5859 - val_loss: 50464.7148 - val_mae: 50464.7148\n",
      "Epoch 11/100\n",
      "250/250 [==============================] - 1s 4ms/step - loss: 50299.1367 - mae: 50299.1367 - val_loss: 50420.9062 - val_mae: 50420.9062\n",
      "Epoch 12/100\n",
      "250/250 [==============================] - 1s 4ms/step - loss: 50202.4727 - mae: 50202.4727 - val_loss: 50399.5977 - val_mae: 50399.5977\n",
      "Epoch 13/100\n",
      "250/250 [==============================] - 1s 4ms/step - loss: 50126.6055 - mae: 50126.6055 - val_loss: 50362.3125 - val_mae: 50362.3125\n",
      "Epoch 14/100\n",
      "250/250 [==============================] - 1s 5ms/step - loss: 50069.2852 - mae: 50069.2852 - val_loss: 50344.2461 - val_mae: 50344.2461\n",
      "Epoch 15/100\n",
      "250/250 [==============================] - 1s 5ms/step - loss: 50013.3477 - mae: 50013.3477 - val_loss: 50328.1484 - val_mae: 50328.1484\n",
      "Epoch 16/100\n",
      "250/250 [==============================] - 1s 4ms/step - loss: 49968.9414 - mae: 49968.9414 - val_loss: 50309.7812 - val_mae: 50309.7812\n",
      "Epoch 17/100\n",
      "250/250 [==============================] - 1s 4ms/step - loss: 49933.7031 - mae: 49933.7031 - val_loss: 50296.3281 - val_mae: 50296.3281\n",
      "Epoch 18/100\n",
      "250/250 [==============================] - 1s 4ms/step - loss: 49893.6875 - mae: 49893.6875 - val_loss: 50300.7148 - val_mae: 50300.7148\n",
      "Epoch 19/100\n",
      "250/250 [==============================] - 1s 4ms/step - loss: 49865.5547 - mae: 49865.5547 - val_loss: 50288.5938 - val_mae: 50288.5938\n",
      "Epoch 20/100\n",
      "250/250 [==============================] - 1s 4ms/step - loss: 49829.6250 - mae: 49829.6250 - val_loss: 50283.5312 - val_mae: 50283.5312\n",
      "Epoch 21/100\n",
      "250/250 [==============================] - 1s 4ms/step - loss: 49804.5898 - mae: 49804.5898 - val_loss: 50263.8281 - val_mae: 50263.8281\n",
      "Epoch 22/100\n",
      "250/250 [==============================] - 1s 3ms/step - loss: 49779.1367 - mae: 49779.1367 - val_loss: 50268.1758 - val_mae: 50268.1758\n",
      "Epoch 23/100\n",
      "250/250 [==============================] - 1s 3ms/step - loss: 49754.5234 - mae: 49754.5234 - val_loss: 50254.1875 - val_mae: 50254.1875\n",
      "Epoch 24/100\n",
      "250/250 [==============================] - 1s 3ms/step - loss: 49733.0117 - mae: 49733.0117 - val_loss: 50252.6992 - val_mae: 50252.6992\n",
      "Epoch 25/100\n",
      "250/250 [==============================] - 1s 3ms/step - loss: 49711.1523 - mae: 49711.1523 - val_loss: 50241.3945 - val_mae: 50241.3945\n",
      "Epoch 26/100\n",
      "250/250 [==============================] - 1s 3ms/step - loss: 49689.4102 - mae: 49689.4102 - val_loss: 50237.8516 - val_mae: 50237.8516\n",
      "Epoch 27/100\n",
      "250/250 [==============================] - 1s 3ms/step - loss: 49670.6836 - mae: 49670.6836 - val_loss: 50246.3555 - val_mae: 50246.3555\n",
      "Epoch 28/100\n",
      "250/250 [==============================] - 1s 3ms/step - loss: 49656.0117 - mae: 49656.0117 - val_loss: 50247.4102 - val_mae: 50247.4102\n",
      "Epoch 29/100\n",
      "250/250 [==============================] - 1s 3ms/step - loss: 49639.9453 - mae: 49639.9453 - val_loss: 50236.4297 - val_mae: 50236.4297\n",
      "Epoch 30/100\n",
      "250/250 [==============================] - 1s 3ms/step - loss: 49623.4414 - mae: 49623.4414 - val_loss: 50236.7812 - val_mae: 50236.7812\n",
      "Epoch 31/100\n",
      "250/250 [==============================] - 1s 3ms/step - loss: 49608.8594 - mae: 49608.8594 - val_loss: 50224.3672 - val_mae: 50224.3672\n",
      "Epoch 32/100\n",
      "250/250 [==============================] - 1s 3ms/step - loss: 49594.8633 - mae: 49594.8633 - val_loss: 50235.9766 - val_mae: 50235.9766\n",
      "Epoch 33/100\n",
      "250/250 [==============================] - 1s 3ms/step - loss: 49577.8516 - mae: 49577.8516 - val_loss: 50225.6484 - val_mae: 50225.6484\n",
      "Epoch 34/100\n",
      "250/250 [==============================] - 1s 5ms/step - loss: 49563.6562 - mae: 49563.6562 - val_loss: 50228.8125 - val_mae: 50228.8125\n",
      "Epoch 35/100\n",
      "250/250 [==============================] - 1s 5ms/step - loss: 49556.9297 - mae: 49556.9297 - val_loss: 50213.7188 - val_mae: 50213.7188\n",
      "Epoch 36/100\n",
      "250/250 [==============================] - 1s 5ms/step - loss: 49540.7070 - mae: 49540.7070 - val_loss: 50234.7305 - val_mae: 50234.7305\n",
      "Epoch 37/100\n",
      "250/250 [==============================] - 1s 3ms/step - loss: 49529.7812 - mae: 49529.7812 - val_loss: 50222.8516 - val_mae: 50222.8516\n",
      "Epoch 38/100\n",
      "250/250 [==============================] - 1s 3ms/step - loss: 49519.4062 - mae: 49519.4062 - val_loss: 50228.6445 - val_mae: 50228.6445\n",
      "Epoch 39/100\n",
      "250/250 [==============================] - 1s 3ms/step - loss: 49509.8828 - mae: 49509.8828 - val_loss: 50215.9492 - val_mae: 50215.9492\n",
      "Epoch 40/100\n",
      "250/250 [==============================] - 1s 3ms/step - loss: 49501.6953 - mae: 49501.6953 - val_loss: 50224.4531 - val_mae: 50224.4531\n",
      "Epoch 41/100\n",
      "250/250 [==============================] - 1s 4ms/step - loss: 49489.1367 - mae: 49489.1367 - val_loss: 50219.5742 - val_mae: 50219.5742\n",
      "Epoch 42/100\n",
      "250/250 [==============================] - 1s 5ms/step - loss: 49479.7734 - mae: 49479.7734 - val_loss: 50225.0859 - val_mae: 50225.0859\n",
      "Epoch 43/100\n",
      "250/250 [==============================] - 1s 3ms/step - loss: 49471.7461 - mae: 49471.7461 - val_loss: 50219.1992 - val_mae: 50219.1992\n",
      "Epoch 44/100\n",
      "250/250 [==============================] - 1s 3ms/step - loss: 49465.0977 - mae: 49465.0977 - val_loss: 50229.8008 - val_mae: 50229.8008\n",
      "Epoch 45/100\n",
      "250/250 [==============================] - 1s 3ms/step - loss: 49457.3164 - mae: 49457.3164 - val_loss: 50217.9219 - val_mae: 50217.9219\n"
     ]
    }
   ],
   "source": [
    "# Train the model\n",
    "history = model.fit(\n",
    "    X_train, y_train,                # Training data\n",
    "    epochs=100,                      # Maximum number of epochs\n",
    "    # batch_size=32,                   # Batch size\n",
    "    validation_data=(X_test, y_test),  # Validation data\n",
    "    callbacks=[early_stopping_callback, tensorboard_callback]  # Early stopping and TensorBoard callbacks\n",
    ")"
   ]
  },
  {
   "cell_type": "code",
   "execution_count": 51,
   "metadata": {},
   "outputs": [
    {
     "name": "stdout",
     "output_type": "stream",
     "text": [
      "The tensorboard extension is already loaded. To reload it, use:\n",
      "  %reload_ext tensorboard\n"
     ]
    }
   ],
   "source": [
    "%load_ext tensorboard"
   ]
  },
  {
   "cell_type": "code",
   "execution_count": 52,
   "metadata": {},
   "outputs": [
    {
     "data": {
      "text/plain": [
       "Reusing TensorBoard on port 6007 (pid 24988), started 0:07:24 ago. (Use '!kill 24988' to kill it.)"
      ]
     },
     "metadata": {},
     "output_type": "display_data"
    },
    {
     "data": {
      "text/html": [
       "\n",
       "      <iframe id=\"tensorboard-frame-79b4185a3fce2cc6\" width=\"100%\" height=\"800\" frameborder=\"0\">\n",
       "      </iframe>\n",
       "      <script>\n",
       "        (function() {\n",
       "          const frame = document.getElementById(\"tensorboard-frame-79b4185a3fce2cc6\");\n",
       "          const url = new URL(\"http://localhost\");\n",
       "          const port = 6007;\n",
       "          if (port) {\n",
       "            url.port = port;\n",
       "          }\n",
       "          frame.src = url;\n",
       "        })();\n",
       "      </script>\n",
       "    "
      ],
      "text/plain": [
       "<IPython.core.display.HTML object>"
      ]
     },
     "metadata": {},
     "output_type": "display_data"
    }
   ],
   "source": [
    "%tensorboard --logdir regressionlogs/fit"
   ]
  },
  {
   "cell_type": "code",
   "execution_count": 53,
   "metadata": {},
   "outputs": [
    {
     "data": {
      "image/png": "[encoded data removed]",
      "text/plain": [
       "<Figure size 640x480 with 1 Axes>"
      ]
     },
     "metadata": {},
     "output_type": "display_data"
    }
   ],
   "source": [
    "import matplotlib.pyplot as plt\n",
    "\n",
    "# Extract training and validation accuracy from the history object\n",
    "train_acc = history.history['loss']\n",
    "val_acc = history.history['val_loss']\n",
    "\n",
    "# Plot the training and validation accuracy\n",
    "plt.plot(train_acc, color='blue')\n",
    "plt.plot(val_acc, color='red')\n",
    "plt.show()"
   ]
  },
  {
   "cell_type": "code",
   "execution_count": 54,
   "metadata": {},
   "outputs": [
    {
     "name": "stdout",
     "output_type": "stream",
     "text": [
      "INFO:tensorflow:Assets written to: assets\n"
     ]
    },
    {
     "name": "stderr",
     "output_type": "stream",
     "text": [
      "INFO:tensorflow:Assets written to: assets\n"
     ]
    }
   ],
   "source": [
    "model.save('')"
   ]
  },
  {
   "cell_type": "code",
   "execution_count": 55,
   "metadata": {},
   "outputs": [
    {
     "name": "stdout",
     "output_type": "stream",
     "text": [
      "63/63 [==============================] - 0s 3ms/step - loss: 50213.7188 - mae: 50213.7188\n",
      "Test MAE : 50213.71875\n"
     ]
    }
   ],
   "source": [
    "# Evaluate the model on test data\n",
    "test_loss, test_mae = model.evaluate(X_test, y_test)\n",
    "print(f'Test MAE : {test_mae}')"
   ]
  },
  {
   "cell_type": "code",
   "execution_count": 56,
   "metadata": {},
   "outputs": [
    {
     "name": "stderr",
     "output_type": "stream",
     "text": [
      "c:\\Users\\arsha\\Downloads\\Deep Learning\\ANN_Classification\\myenv\\lib\\site-packages\\keras\\src\\engine\\training.py:3103: UserWarning: You are saving your model as an HDF5 file via `model.save()`. This file format is considered legacy. We recommend using instead the native Keras format, e.g. `model.save('my_model.keras')`.\n",
      "  saving_api.save_model(\n"
     ]
    }
   ],
   "source": [
    "model.save(\"regression_model.h5\")"
   ]
  },
  {
   "cell_type": "code",
   "execution_count": null,
   "metadata": {},
   "outputs": [],
   "source": []
  }
 ],
 "metadata": {
  "kernelspec": {
   "display_name": "myenv",
   "language": "python",
   "name": "python3"
  },
  "language_info": {
   "codemirror_mode": {
    "name": "ipython",
    "version": 3
   },
   "file_extension": ".py",
   "mimetype": "text/x-python",
   "name": "python",
   "nbconvert_exporter": "python",
   "pygments_lexer": "ipython3",
   "version": "3.10.11"
  }
 },
 "nbformat": 4,
 "nbformat_minor": 2
}
